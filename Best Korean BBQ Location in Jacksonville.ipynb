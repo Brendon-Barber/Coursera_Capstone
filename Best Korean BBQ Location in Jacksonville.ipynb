{
    "cells": [
        {
            "cell_type": "markdown",
            "metadata": {
                "collapsed": true
            },
            "source": "# <span style=\"color:green\"> Deciding Where to Build a New Korean Barbecue Location in Jacksonville </span>"
        },
        {
            "cell_type": "markdown",
            "metadata": {},
            "source": "### <span style=\"color:blue\"> I am originally from Atlanta, a huge melting pot with multi-cultural cuisine, and have fallen in love with Korean BBQ. Six years ago my parents moved to Jacksonville, and I have been desperately searching for a location somewhere in the general vicinity to no avail. I plan to use location data from Foursquare to obtain the location of competitors stores. I plan to combine this with  population demographic data for each zip code. By combining these two, I will determine the best place to build my new restaurant. The relevant stakeholders are angel investors interested in a new start-up. I hope to entice local patrons to experience this incredible cuisine. </span>"
        },
        {
            "cell_type": "markdown",
            "metadata": {},
            "source": "### <span style=\"color:red\"> I will use Foursquare location data to determine the optimal location for a new Korean BBQ restaurant based on proximity to relevant competetitors. I am also using population demographic data to anticipate the most successful location based on the demographics of each zip code. </span>"
        },
        {
            "cell_type": "code",
            "execution_count": 1,
            "metadata": {},
            "outputs": [],
            "source": "import numpy as np\nimport pandas as pd\nimport json\nfrom geopy.geocoders import Nominatim\nimport requests\nfrom pandas.io.json import json_normalize\nimport matplotlib.cm as cm\nimport matplotlib.colors as colors\nfrom sklearn.cluster import KMeans\nimport folium"
        },
        {
            "cell_type": "code",
            "execution_count": 13,
            "metadata": {},
            "outputs": [
                {
                    "data": {
                        "text/html": "<div>\n<style scoped>\n    .dataframe tbody tr th:only-of-type {\n        vertical-align: middle;\n    }\n\n    .dataframe tbody tr th {\n        vertical-align: top;\n    }\n\n    .dataframe thead th {\n        text-align: right;\n    }\n</style>\n<table border=\"1\" class=\"dataframe\">\n  <thead>\n    <tr style=\"text-align: right;\">\n      <th></th>\n      <th>Ethnicity</th>\n      <th>2014</th>\n      <th>Percentage</th>\n      <th>2010</th>\n      <th>Change</th>\n    </tr>\n  </thead>\n  <tbody>\n    <tr>\n      <th>0</th>\n      <td>White</td>\n      <td>26357</td>\n      <td>72.44%</td>\n      <td>26391</td>\n      <td>+-0%</td>\n    </tr>\n    <tr>\n      <th>1</th>\n      <td>Black Or African American</td>\n      <td>4104</td>\n      <td>11.28%</td>\n      <td>4175</td>\n      <td>-2%</td>\n    </tr>\n    <tr>\n      <th>2</th>\n      <td>Hispanic</td>\n      <td>3646</td>\n      <td>10.02%</td>\n      <td>3549</td>\n      <td>+3%</td>\n    </tr>\n    <tr>\n      <th>3</th>\n      <td>American Indian Or Alaskan Native</td>\n      <td>36</td>\n      <td>0.1%</td>\n      <td>109</td>\n      <td>-67%</td>\n    </tr>\n    <tr>\n      <th>4</th>\n      <td>Asian</td>\n      <td>1152</td>\n      <td>3.17%</td>\n      <td>1319</td>\n      <td>-13%</td>\n    </tr>\n    <tr>\n      <th>5</th>\n      <td>Native Hawaiian &amp; Other Pacific Islander</td>\n      <td>0</td>\n      <td>0%</td>\n      <td>30</td>\n      <td>-100%</td>\n    </tr>\n    <tr>\n      <th>6</th>\n      <td>Other Race</td>\n      <td>130</td>\n      <td>0.48%</td>\n      <td>130</td>\n      <td>+33%</td>\n    </tr>\n    <tr>\n      <th>7</th>\n      <td>Two Or More Races</td>\n      <td>727</td>\n      <td>2.53%</td>\n      <td>727</td>\n      <td>+26%</td>\n    </tr>\n  </tbody>\n</table>\n</div>",
                        "text/plain": "                                  Ethnicity   2014 Percentage   2010 Change\n0                                     White  26357     72.44%  26391   +-0%\n1                 Black Or African American   4104     11.28%   4175    -2%\n2                                  Hispanic   3646     10.02%   3549    +3%\n3         American Indian Or Alaskan Native     36       0.1%    109   -67%\n4                                     Asian   1152      3.17%   1319   -13%\n5  Native Hawaiian & Other Pacific Islander      0         0%     30  -100%\n6                                Other Race    130      0.48%    130   +33%\n7                         Two Or More Races    727      2.53%    727   +26%"
                    },
                    "execution_count": 13,
                    "metadata": {},
                    "output_type": "execute_result"
                }
            ],
            "source": "jax1 = pd.read_html('https://www.zipdatamaps.com/32257', header=1)\njax1[1]\ndf1 = pd.DataFrame(data=jax1[1])\ndf1.columns = ['Ethnicity','2014','Percentage','2010','Change']\ndf1 #data for the zip code 32257"
        },
        {
            "cell_type": "code",
            "execution_count": null,
            "metadata": {},
            "outputs": [],
            "source": ""
        }
    ],
    "metadata": {
        "kernelspec": {
            "display_name": "Python 3.6",
            "language": "python",
            "name": "python3"
        },
        "language_info": {
            "codemirror_mode": {
                "name": "ipython",
                "version": 3
            },
            "file_extension": ".py",
            "mimetype": "text/x-python",
            "name": "python",
            "nbconvert_exporter": "python",
            "pygments_lexer": "ipython3",
            "version": "3.6.8"
        }
    },
    "nbformat": 4,
    "nbformat_minor": 1
}