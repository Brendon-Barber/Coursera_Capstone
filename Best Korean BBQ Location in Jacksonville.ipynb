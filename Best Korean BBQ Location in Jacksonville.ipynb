{
    "cells": [
        {
            "cell_type": "markdown",
            "metadata": {
                "collapsed": true
            },
            "source": "# <span style=\"color:green\"> Deciding Where to Build a New Korean Barbecue Location in Jacksonville </span>"
        },
        {
            "cell_type": "markdown",
            "metadata": {},
            "source": "### <span style=\"color:blue\"> I am originally from Atlanta and have fallen in love with Korean BBQ. Six years ago my parents moved to Jacksonville, and I have been desperately searching for a location somewhere in the general vicintiy to no avail. I plan to use location data in conjunction with population demographics to determine the best place to build a new restaurant. </span>"
        },
        {
            "cell_type": "markdown",
            "metadata": {},
            "source": "###### <span style=\"color:red\"> I will use Foursquare location data to determine the optimal location for a new Korean BBQ restaurant based on proximity to relevant competetitors. I plan to also use population density data for the city of Jacksonville to determine which neighborhood or location would be the most successful. </span>"
        },
        {
            "cell_type": "code",
            "execution_count": null,
            "metadata": {},
            "outputs": [],
            "source": ""
        }
    ],
    "metadata": {
        "kernelspec": {
            "display_name": "Python 3.6",
            "language": "python",
            "name": "python3"
        },
        "language_info": {
            "codemirror_mode": {
                "name": "ipython",
                "version": 3
            },
            "file_extension": ".py",
            "mimetype": "text/x-python",
            "name": "python",
            "nbconvert_exporter": "python",
            "pygments_lexer": "ipython3",
            "version": "3.6.8"
        }
    },
    "nbformat": 4,
    "nbformat_minor": 1
}